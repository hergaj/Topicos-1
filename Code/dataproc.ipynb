{
 "cells": [
  {
   "cell_type": "code",
   "execution_count": 13,
   "metadata": {},
   "outputs": [],
   "source": [
    "import pickle\n",
    "\n",
    "import numpy as np\n",
    "\n",
    "from scipy.optimize import curve_fit\n",
    "\n",
    "import matplotlib.pyplot as plt"
   ]
  },
  {
   "cell_type": "code",
   "execution_count": 2,
   "metadata": {},
   "outputs": [],
   "source": [
    "with open('../Data/Ds', 'rb') as file: \n",
    "    Ds = pickle.load(file)"
   ]
  },
  {
   "cell_type": "code",
   "execution_count": 3,
   "metadata": {},
   "outputs": [],
   "source": [
    "min_d = 0\n",
    "\n",
    "max_d = 50\n",
    "\n",
    "rad = np.arange(min_d, max_d, 0.5)"
   ]
  },
  {
   "cell_type": "code",
   "execution_count": 4,
   "metadata": {},
   "outputs": [],
   "source": [
    "def Dr(r, A, D, **kwargs):\n",
    "    return A*r**(D-1)"
   ]
  },
  {
   "cell_type": "code",
   "execution_count": 5,
   "metadata": {},
   "outputs": [],
   "source": [
    "f_d = []\n",
    "\n",
    "for D in Ds:\n",
    "    d_r = dict(zip(D, rad))\n",
    "\n",
    "    filt_dr = {k: v for k, v in d_r.items() if v >6}\n",
    "\n",
    "    s_filt_dr = dict(sorted(filt_dr.items(), key=lambda item: item[1]))\n",
    "\n",
    "    n_D = list(s_filt_dr.keys())\n",
    "\n",
    "    n_rad = list(s_filt_dr.values())\n",
    "\n",
    "    params = curve_fit(Dr, n_rad, n_D)[0]\n",
    "\n",
    "    f_d.append(params[1])\n",
    "    "
   ]
  },
  {
   "cell_type": "code",
   "execution_count": 10,
   "metadata": {},
   "outputs": [
    {
     "name": "stdout",
     "output_type": "stream",
     "text": [
      "Dimensión fractal: 1 +- 0.1\n"
     ]
    }
   ],
   "source": [
    "print('Dimensión fractal:', round(np.mean(f_d)), '+-', round(np.std(f_d), ndigits=1))"
   ]
  },
  {
   "cell_type": "code",
   "execution_count": null,
   "metadata": {},
   "outputs": [],
   "source": []
  }
 ],
 "metadata": {
  "kernelspec": {
   "display_name": ".venv",
   "language": "python",
   "name": "python3"
  },
  "language_info": {
   "codemirror_mode": {
    "name": "ipython",
    "version": 3
   },
   "file_extension": ".py",
   "mimetype": "text/x-python",
   "name": "python",
   "nbconvert_exporter": "python",
   "pygments_lexer": "ipython3",
   "version": "3.12.7"
  }
 },
 "nbformat": 4,
 "nbformat_minor": 2
}
