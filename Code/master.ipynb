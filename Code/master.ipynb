{
 "cells": [
  {
   "cell_type": "code",
   "execution_count": 93,
   "metadata": {},
   "outputs": [],
   "source": [
    "import numpy as np\n",
    "\n",
    "import random\n",
    "\n",
    "from seed import lattice, vecinos, seed\n",
    "\n",
    "from rules import trees, fire, wildfire, heal\n",
    "\n",
    "import matplotlib.pyplot as plt\n",
    "\n",
    "import pickle\n",
    "\n",
    "from scipy.optimize import curve_fit"
   ]
  },
  {
   "cell_type": "code",
   "execution_count": 94,
   "metadata": {},
   "outputs": [],
   "source": [
    "# Aquí hacemos la lattice para luego ir aplicando las distintas reglas (el autómata)\n",
    "\n",
    "l = seed(100)\n",
    "\n",
    "init_l = np.copy(l)\n",
    "\n",
    "#l = fire(l, 0.002)"
   ]
  },
  {
   "cell_type": "code",
   "execution_count": 97,
   "metadata": {},
   "outputs": [],
   "source": [
    "# Variables para definir una máscara que cuente el número de fuego segun la distancia de un fuego\n",
    "# aleatorio\n",
    "\n",
    "min_d = 0\n",
    "\n",
    "max_d = 50\n",
    "\n",
    "rad = np.arange(min_d, max_d, 0.5)"
   ]
  },
  {
   "cell_type": "code",
   "execution_count": 98,
   "metadata": {},
   "outputs": [],
   "source": [
    "Fs = []\n",
    "\n",
    "for _ in range(50):\n",
    "\n",
    "    l = seed(100)\n",
    "\n",
    "    init_l = np.copy(l)\n",
    "\n",
    "    l = fire(l, 0.002)\n",
    "\n",
    "\n",
    "    F = []\n",
    "\n",
    "    for _ in range(25000):\n",
    "\n",
    "        fcd = []\n",
    "\n",
    "        fire_cells = [(x,y) for [x,y] in np.column_stack(np.where(l==2))]\n",
    "\n",
    "        center = random.choice(fire_cells)\n",
    "\n",
    "        dist = np.sqrt((np.indices(l.shape)[0]-center[0])**2 + (np.indices(l.shape)[1] - center[1])**2)\n",
    "\n",
    "        \n",
    "        for r in rad:\n",
    "\n",
    "            m = (dist >= r) & (dist < r + 0.5)\n",
    "\n",
    "            \n",
    "            fc = np.sum((l[m]==2))\n",
    "\n",
    "            \n",
    "            fcd.append(fc)\n",
    "\n",
    "\n",
    "        if l[center] == 2:\n",
    "\n",
    "            F.append(fcd)\n",
    "\n",
    "        l = wildfire(l)\n",
    "\n",
    "        l = heal(l)\n",
    "\n",
    "        l = trees(l,0.015)\n",
    "\n",
    "\n",
    "        if [(x,y) for [x,y] in np.column_stack(np.where(l==2))] == []:\n",
    "\n",
    "            l = fire(l, 0.1)\n",
    "        \n",
    "    Fs.append(F)\n"
   ]
  },
  {
   "cell_type": "code",
   "execution_count": 99,
   "metadata": {},
   "outputs": [],
   "source": [
    "ds = []\n",
    "\n",
    "for item in Fs:\n",
    "    item = item[-20000:]\n",
    "    item_a = np.array(item)\n",
    "\n",
    "    item_sum = np.sum(item_a, axis=0)\n",
    "\n",
    "    d = item_sum / len(item)\n",
    "\n",
    "    ds.append(d)"
   ]
  },
  {
   "cell_type": "code",
   "execution_count": 102,
   "metadata": {},
   "outputs": [],
   "source": [
    "with open('../Data/Ds', 'wb') as file:\n",
    "    pickle.dump(ds, file)"
   ]
  }
 ],
 "metadata": {
  "kernelspec": {
   "display_name": ".venv",
   "language": "python",
   "name": "python3"
  },
  "language_info": {
   "codemirror_mode": {
    "name": "ipython",
    "version": 3
   },
   "file_extension": ".py",
   "mimetype": "text/x-python",
   "name": "python",
   "nbconvert_exporter": "python",
   "pygments_lexer": "ipython3",
   "version": "3.12.7"
  }
 },
 "nbformat": 4,
 "nbformat_minor": 2
}
